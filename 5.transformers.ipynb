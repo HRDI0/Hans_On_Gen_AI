{
 "cells": [
  {
   "cell_type": "markdown",
   "id": "a624f183",
   "metadata": {},
   "source": [
    "### 트랜스포머의 잠재적 문제점"
   ]
  },
  {
   "cell_type": "markdown",
   "id": "69d13276",
   "metadata": {},
   "source": [
    "규모가 매우 크다\n",
    "- 갈력한 모델을 학습시키는데, 많은 비용이 들어간다. 이런 비용을 충당할 수 없는 기관은 연구 범위가 제한될 수 밖에 없다.\n",
    "- 대량의 저력소모로 환경적 문제가 있다.\n",
    "- 오픈소스로 모델이 제공되어도 추론 하는데에만 많은 gpu가 필요할 수 있다."
   ]
  },
  {
   "cell_type": "markdown",
   "id": "99940ccb",
   "metadata": {},
   "source": []
  }
 ],
 "metadata": {
  "language_info": {
   "name": "python"
  }
 },
 "nbformat": 4,
 "nbformat_minor": 5
}
